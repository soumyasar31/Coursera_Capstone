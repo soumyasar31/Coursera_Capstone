{
 "cells": [
  {
   "cell_type": "markdown",
   "metadata": {},
   "source": [
    "## Capstone Final Project - Week 4"
   ]
  },
  {
   "cell_type": "markdown",
   "metadata": {},
   "source": [
    "**Introduction**\n",
    "\n",
    "Toronto and Mumbai are the financial capitals of Canada & India respectively. Both the cities are very different in many aspects like demography, climate, culture etc. At the same time both the cities are prominent tourist attractions due to their diverse, multicultural and wide range of experiences.  In this study we have grouped the neighbourhoods of Toronto & Mumbai to compare the similarities and differences."
   ]
  },
  {
   "cell_type": "markdown",
   "metadata": {},
   "source": [
    "**Business Problem & Target Audience**\n",
    "\n",
    "Our main aim is to group the neighbourhoods of Toronto & Mumbai to help the stakeholders take informed decision while planning to travel or relocate in either of the cities. There are two types of stakeholders in this case –\n",
    "a)\tTourists/Travel Agents – who can look around in the venues, categories and locations and plan accordingly as per their choice of experience.\n",
    "b)\tMigrants – people who want to migrate or relocate in these cities can find all details in their choice of neighbourhood, like departmental store, Bank, Park, medical shop etc.\n"
   ]
  },
  {
   "cell_type": "markdown",
   "metadata": {},
   "source": [
    "**Data**\n",
    "\n",
    "We have obtained Neighbourhood data along with postal codes, Latitude and Longitude for both the cities from websites. Also we have used FourSquare API to get the venues corresponding to each neighbourhood. Below are the sources of our data collection –\n",
    "\n",
    "a)\tToronto Data – Wikipedia page https://en.wikipedia.org/w/index.php?title=List_of_postal_codes_of_Canada:_M&oldid=1011037969 has the details of all the Borough, Neighbourhoods along with postal codes of Toronto. We have obtained latitude and longitude of those places from the page https://cocl.us/Geospatial_data .\n",
    "\n",
    "b)\tMumbai Data – We have obtained all the Neighbourhoods of Mumbai along with postal codes, latitude & longitude from the website https://geographic.org/streetview/india/maharashtra/konkan/mumbai.html . However, I have saved the data in excel format after cleaning & sorting in the Github location https://github.com/soumyasar31/Coursera_Capstone/blob/main/Mumbai%20Neighbourhood.xls .\n",
    "\n",
    "c)\tFourSquare API Data – To obtain the venues of a neighbourhood, we have used the FourSquare API, which is a location data provided with all kinds of information on venues and events within an area. This includes venue name, category, reviews, images etc.  We have obtained list of venues around 500 meters of each neighbourhood. After obtaining the information, we have arranged the data by venue name & category for our exploratory data analysis and clustering of the neighbourhoods. We have also used the same data to find out top 5 categories of venue for each neighbourhood.\n"
   ]
  },
  {
   "cell_type": "code",
   "execution_count": null,
   "metadata": {},
   "outputs": [],
   "source": []
  }
 ],
 "metadata": {
  "kernelspec": {
   "display_name": "Python 3",
   "language": "python",
   "name": "python3"
  },
  "language_info": {
   "codemirror_mode": {
    "name": "ipython",
    "version": 3
   },
   "file_extension": ".py",
   "mimetype": "text/x-python",
   "name": "python",
   "nbconvert_exporter": "python",
   "pygments_lexer": "ipython3",
   "version": "3.7.3"
  }
 },
 "nbformat": 4,
 "nbformat_minor": 2
}
